{
 "cells": [
  {
   "cell_type": "markdown",
   "id": "52cebe95",
   "metadata": {},
   "source": [
    "# Import modules"
   ]
  },
  {
   "cell_type": "code",
   "execution_count": 1,
   "id": "899b3788",
   "metadata": {},
   "outputs": [
    {
     "ename": "ModuleNotFoundError",
     "evalue": "No module named 'PFN_model'",
     "output_type": "error",
     "traceback": [
      "\u001b[1;31m---------------------------------------------------------------------------\u001b[0m",
      "\u001b[1;31mModuleNotFoundError\u001b[0m                       Traceback (most recent call last)",
      "Cell \u001b[1;32mIn[1], line 1\u001b[0m\n\u001b[1;32m----> 1\u001b[0m \u001b[38;5;28;01mimport\u001b[39;00m \u001b[38;5;21;01mPFN_model\u001b[39;00m\n\u001b[0;32m      2\u001b[0m \u001b[38;5;28;01mfrom\u001b[39;00m \u001b[38;5;21;01mPFN_model\u001b[39;00m \u001b[38;5;28;01mimport\u001b[39;00m PFN, BuildSSInitial\n\u001b[0;32m      3\u001b[0m \u001b[38;5;28;01mimport\u001b[39;00m \u001b[38;5;21;01mnumpy\u001b[39;00m \u001b[38;5;28;01mas\u001b[39;00m \u001b[38;5;21;01mnp\u001b[39;00m\n",
      "\u001b[1;31mModuleNotFoundError\u001b[0m: No module named 'PFN_model'"
     ]
    }
   ],
   "source": [
    "import PFN_model\n",
    "from PFN_model import PFN, BuildSSInitial\n",
    "import numpy as np\n",
    "import pandas as pd\n",
    "import matplotlib.pyplot as plt\n"
   ]
  },
  {
   "cell_type": "markdown",
   "id": "3f86d15a",
   "metadata": {},
   "source": [
    "# Load stimulus file created from MPC (e.g. '**stims.csv')"
   ]
  },
  {
   "cell_type": "code",
   "execution_count": null,
   "id": "81e5b8fc",
   "metadata": {},
   "outputs": [],
   "source": [
    "stimuli = pd.read_csv('model-stims_bio-validation_varying-control_corrected.csv')"
   ]
  },
  {
   "cell_type": "code",
   "execution_count": null,
   "id": "e18c4ff0",
   "metadata": {},
   "outputs": [],
   "source": [
    "stim_list = [stimuli[stimuli.obj_id==i] for i in np.unique(stimuli.obj_id)]"
   ]
  },
  {
   "cell_type": "code",
   "execution_count": null,
   "id": "8999a7e6",
   "metadata": {},
   "outputs": [],
   "source": [
    "len(stim_list)"
   ]
  },
  {
   "cell_type": "code",
   "execution_count": null,
   "id": "96235c41",
   "metadata": {},
   "outputs": [],
   "source": [
    "stimuli.columns"
   ]
  },
  {
   "cell_type": "code",
   "execution_count": null,
   "id": "a97cfcce",
   "metadata": {},
   "outputs": [],
   "source": [
    "for s in stim_list:\n",
    "    fig,ax = plt.subplots(figsize=(3,3))\n",
    "    ax.plot(s.gspd)\n",
    "    ax.set_ylim(0,1)"
   ]
  },
  {
   "cell_type": "markdown",
   "id": "2822f1a2",
   "metadata": {},
   "source": [
    "for s in stim_list:\n",
    "    s.gspd.iloc[:500] = 0\n",
    "    s.gspd.iloc[-500:] = 0\n",
    "    s.fspd.iloc[:500] = 0\n",
    "    s.fspd.iloc[-500:] = 0"
   ]
  },
  {
   "cell_type": "markdown",
   "id": "7b71fb82",
   "metadata": {},
   "source": [
    "newstims = stim_list[0].copy()\n",
    "for s in range(1,len(stim_list)):\n",
    "    newstims = pd.concat([newstims,stim_list[s]])\n",
    "    "
   ]
  },
  {
   "cell_type": "markdown",
   "id": "e176e231",
   "metadata": {},
   "source": [
    "newstims"
   ]
  },
  {
   "cell_type": "markdown",
   "id": "254ab089",
   "metadata": {},
   "source": [
    "newstims.to_csv('model-stims_bio-validation_varying-control_corrected.csv')"
   ]
  },
  {
   "cell_type": "markdown",
   "id": "aa392978",
   "metadata": {},
   "source": [
    "# Compute & plot model predictions (amplitudes)"
   ]
  },
  {
   "cell_type": "code",
   "execution_count": null,
   "id": "8c385a46",
   "metadata": {},
   "outputs": [],
   "source": [
    "count=0\n",
    "for stimulus in stim_list:    \n",
    "    ## Model PFN activity during trajectory\n",
    "    pfnmodel = PFN()\n",
    "\n",
    "    p_d = pfnmodel.model_param['PFNd']\n",
    "    p_v = pfnmodel.model_param['PFNv']\n",
    "    p_pc = pfnmodel.model_param['PFNpc']\n",
    "    p_a = pfnmodel.model_param['PFNa']\n",
    "    AF = [-stimulus['gamma'].copy().iloc[0], 100*stimulus['airspeed'].copy().iloc[0]]\n",
    "    OF = [-stimulus['psi'].copy().iloc[0], 100*stimulus['gspd'].copy().iloc[0]]   # \"gspd\" is actually OF speed\n",
    "    bump = [-stimulus['heading'].copy().iloc[0], -stimulus['gamma'].copy().iloc[0], 100*stimulus['airspeed'].copy().iloc[0]]\n",
    "    initcond = BuildSSInitial(p_d, p_v, p_pc, p_a, AF, OF, bump)\n",
    "    \n",
    "    pfnmodel.run(tsim=np.array(stimulus['time']),\n",
    "                  phi=-np.array(stimulus['heading']),\n",
    "                  a=100*np.array(stimulus['airspeed']),\n",
    "                  gamma=-np.array(stimulus['gamma']),\n",
    "                  g=100*np.array(stimulus['gspd']),\n",
    "                  psi=-np.array(stimulus['psi']),\n",
    "                  initcond=initcond)\n",
    "\n",
    "    inputs = {}\n",
    "\n",
    "    inputs['obj_id'] = count\n",
    "\n",
    "    signals = list(pfnmodel.res.keys())\n",
    "    for label in signals:\n",
    "        inputs[label] = pfnmodel.res[label]\n",
    "    \n",
    "    fig,ax = plt.subplots(2,1,figsize=(4,5))\n",
    "    ax[0].plot(pfnmodel.res['PFNd_ampR'])\n",
    "    ax[1].plot(pfnmodel.res['PFNd_ampL'])\n",
    "    fig.suptitle(['PFNd '+str(count)])\n",
    "    ax[0].set_ylabel('Right PB amp')\n",
    "    ax[1].set_ylabel('Left PB amp')\n",
    "    ax[0].set_ylim(-0.5,2)\n",
    "    ax[1].set_ylim(-0.5,2)\n",
    "    \n",
    "    \n",
    "    count+=1"
   ]
  },
  {
   "cell_type": "code",
   "execution_count": null,
   "id": "b9d3b496",
   "metadata": {},
   "outputs": [],
   "source": []
  }
 ],
 "metadata": {
  "kernelspec": {
   "display_name": "Python 3 (ipykernel)",
   "language": "python",
   "name": "python3"
  },
  "language_info": {
   "codemirror_mode": {
    "name": "ipython",
    "version": 3
   },
   "file_extension": ".py",
   "mimetype": "text/x-python",
   "name": "python",
   "nbconvert_exporter": "python",
   "pygments_lexer": "ipython3",
   "version": "3.11.4"
  }
 },
 "nbformat": 4,
 "nbformat_minor": 5
}
